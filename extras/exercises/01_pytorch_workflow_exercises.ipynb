{
  "nbformat": 4,
  "nbformat_minor": 0,
  "metadata": {
    "colab": {
      "provenance": []
    },
    "kernelspec": {
      "name": "python3",
      "display_name": "Python 3"
    },
    "language_info": {
      "name": "python"
    },
    "accelerator": "GPU"
  },
  "cells": [
    {
      "cell_type": "markdown",
      "metadata": {
        "id": "view-in-github"
      },
      "source": [
        "<a href=\"https://colab.research.google.com/github/mrdbourke/pytorch-deep-learning/blob/main/extras/exercises/01_pytorch_workflow_exercises.ipynb\" target=\"_parent\"><img src=\"https://colab.research.google.com/assets/colab-badge.svg\" alt=\"Open In Colab\"/></a>"
      ]
    },
    {
      "cell_type": "markdown",
      "source": [
        "# 01. PyTorch Workflow Exercise Template\n",
        "\n",
        "The following is a template for the PyTorch workflow exercises.\n",
        "\n",
        "It's only starter code and it's your job to fill in the blanks.\n",
        "\n",
        "Because of the flexibility of PyTorch, there may be more than one way to answer the question.\n",
        "\n",
        "Don't worry about trying to be *right* just try writing code that suffices the question.\n",
        "\n",
        "You can see one form of [solutions on GitHub](https://github.com/mrdbourke/pytorch-deep-learning/tree/main/extras/solutions) (but try the exercises below yourself first!)."
      ],
      "metadata": {
        "id": "N8LsPXZti9Sw"
      }
    },
    {
      "cell_type": "code",
      "source": [
        "# Import necessary libraries\n",
        "import torch\n",
        "from torch import nn\n",
        "import matplotlib.pyplot as plt\n",
        "import seaborn as sns\n",
        "sns.set_style('whitegrid')"
      ],
      "metadata": {
        "id": "Glu2fM4dkNlx"
      },
      "execution_count": 1,
      "outputs": []
    },
    {
      "cell_type": "code",
      "source": [
        "# Setup device-agnostic code\n",
        "gpu_cpu = \"cuda\" if torch.cuda.is_available() else \"cpu\"\n",
        "gpu_cpu"
      ],
      "metadata": {
        "id": "LqKhXY26m31s",
        "colab": {
          "base_uri": "https://localhost:8080/",
          "height": 36
        },
        "outputId": "76a70ec2-6621-45e6-bdb4-b199aab0ac26"
      },
      "execution_count": 2,
      "outputs": [
        {
          "output_type": "execute_result",
          "data": {
            "text/plain": [
              "'cuda'"
            ],
            "application/vnd.google.colaboratory.intrinsic+json": {
              "type": "string"
            }
          },
          "metadata": {},
          "execution_count": 2
        }
      ]
    },
    {
      "cell_type": "markdown",
      "source": [
        "## 1. Create a straight line dataset using the linear regression formula (`weight * X + bias`).\n",
        "  * Set `weight=0.3` and `bias=0.9` there should be at least 100 datapoints total. \n",
        "  * Split the data into 80% training, 20% testing.\n",
        "  * Plot the training and testing data so it becomes visual.\n",
        "\n",
        "Your output of the below cell should look something like:\n",
        "```\n",
        "Number of X samples: 100\n",
        "Number of y samples: 100\n",
        "First 10 X & y samples:\n",
        "X: tensor([0.0000, 0.0100, 0.0200, 0.0300, 0.0400, 0.0500, 0.0600, 0.0700, 0.0800,\n",
        "        0.0900])\n",
        "y: tensor([0.9000, 0.9030, 0.9060, 0.9090, 0.9120, 0.9150, 0.9180, 0.9210, 0.9240,\n",
        "        0.9270])\n",
        "```\n",
        "\n",
        "Of course the numbers in `X` and `y` may be different but ideally they're created using the linear regression formula."
      ],
      "metadata": {
        "id": "g7HUhxCxjeBx"
      }
    },
    {
      "cell_type": "code",
      "source": [
        "# Create the data parameters\n",
        "weight=0.3\n",
        "bias=0.9\n",
        "\n",
        "# Make X and y using linear regression feature\n",
        "X=torch.arange(0,1,0.01)\n",
        "y=weight*X+bias\n",
        "\n",
        "print(f\"Number of X samples: {len(X)}\")\n",
        "print(f\"Number of y samples: {len(y)}\")\n",
        "print(f\"First 10 X & y samples:\\nX: {X[:10]}\\ny: {y[:10]}\")"
      ],
      "metadata": {
        "id": "KbDG5MV7jhvE",
        "colab": {
          "base_uri": "https://localhost:8080/"
        },
        "outputId": "b6a273c5-dbda-4829-811a-ca9bda527aeb"
      },
      "execution_count": 3,
      "outputs": [
        {
          "output_type": "stream",
          "name": "stdout",
          "text": [
            "Number of X samples: 100\n",
            "Number of y samples: 100\n",
            "First 10 X & y samples:\n",
            "X: tensor([0.0000, 0.0100, 0.0200, 0.0300, 0.0400, 0.0500, 0.0600, 0.0700, 0.0800,\n",
            "        0.0900])\n",
            "y: tensor([0.9000, 0.9030, 0.9060, 0.9090, 0.9120, 0.9150, 0.9180, 0.9210, 0.9240,\n",
            "        0.9270])\n"
          ]
        }
      ]
    },
    {
      "cell_type": "code",
      "source": [
        "# Split the data into training and testing\n",
        "def train_test_split(X,y,dec)->tuple:\n",
        "  \"\"\"\n",
        "  Returns a split set of ndim features X, and targets y into training and testing sets.\n",
        "\n",
        "  X,y must share length. returns a tuple(XTrain,XTest,yTrain,yTest): \n",
        "  \"\"\"\n",
        "  if len(X)==len(y):\n",
        "    numTrain=int(len(X)*dec)\n",
        "    XTrain,yTrain=X[:numTrain],y[:numTrain]\n",
        "    XTest,yTest=X[numTrain:],y[numTrain:]\n",
        "    return XTrain,XTest,yTrain,yTest\n",
        "  else: return 'X and y must be of same length.'"
      ],
      "metadata": {
        "id": "GlwtT1djkmLw"
      },
      "execution_count": 4,
      "outputs": []
    },
    {
      "cell_type": "code",
      "source": [
        "[len(x) for x in train_test_split(X,y,.8)]"
      ],
      "metadata": {
        "colab": {
          "base_uri": "https://localhost:8080/"
        },
        "id": "wGGi6pZlZZeX",
        "outputId": "a0ba4143-5bd4-434b-d967-2a54a4cc007d"
      },
      "execution_count": 5,
      "outputs": [
        {
          "output_type": "execute_result",
          "data": {
            "text/plain": [
              "[80, 20, 80, 20]"
            ]
          },
          "metadata": {},
          "execution_count": 5
        }
      ]
    },
    {
      "cell_type": "code",
      "source": [
        "# Plot the training and testing data\n",
        "XTrain,XTest,yTrain,yTest=train_test_split(X,y,0.8)\n",
        "fig,ax=plt.subplots(figsize=(12,8))\n",
        "ax.scatter(XTrain,yTrain,label='Training Set')\n",
        "ax.scatter(XTest,yTest,label='Testing Set')\n",
        "ax.set_xlabel('X')\n",
        "ax.set_xlabel('y')\n",
        "ax.legend(loc='best')"
      ],
      "metadata": {
        "id": "29iQZFNhlYJ-",
        "colab": {
          "base_uri": "https://localhost:8080/",
          "height": 516
        },
        "outputId": "e691a934-d80e-41fa-f1af-fc7addb669f5"
      },
      "execution_count": 6,
      "outputs": [
        {
          "output_type": "execute_result",
          "data": {
            "text/plain": [
              "<matplotlib.legend.Legend at 0x7fbe60f8bc10>"
            ]
          },
          "metadata": {},
          "execution_count": 6
        },
        {
          "output_type": "display_data",
          "data": {
            "text/plain": [
              "<Figure size 864x576 with 1 Axes>"
            ],
            "image/png": "[encoded data removed]"
          },
          "metadata": {}
        }
      ]
    },
    {
      "cell_type": "markdown",
      "source": [
        "## 2. Build a PyTorch model by subclassing `nn.Module`. \n",
        "  * Inside should be a randomly initialized `nn.Parameter()` with `requires_grad=True`, one for `weights` and one for `bias`. \n",
        "  * Implement the `forward()` method to compute the linear regression function you used to create the dataset in 1. \n",
        "  * Once you've constructed the model, make an instance of it and check its `state_dict()`.\n",
        "  * **Note:** If you'd like to use `nn.Linear()` instead of `nn.Parameter()` you can."
      ],
      "metadata": {
        "id": "ImZoe3v8jif8"
      }
    },
    {
      "cell_type": "code",
      "source": [
        "# Create PyTorch linear regression model by subclassing nn.Module\n",
        "class LinearRegressionModel(nn.Module):\n",
        "  def __init__(self):\n",
        "    super().__init__()\n",
        "    self.weights=nn.Parameter(torch.randn(1,dtype=torch.float),requires_grad=True)\n",
        "    self.bias=nn.Parameter(torch.randn(1,dtype=torch.float),requires_grad=True)\n",
        "  def forward(self,x:torch.Tensor)->torch.Tensor:\n",
        "    return self.weights*x+bias\n",
        "\n",
        "# ## Option 2\n",
        "# class LinearRegressionModel(nn.Module):\n",
        "#   def __init__(self):\n",
        "#     super().__init__()\n",
        "#     self.linear_layer = nn.Linear(in_features = 1,\n",
        "#                                   out_features = 1)\n",
        "#   def forward(self,x : torch.Tensor) -> torch.Tensor:\n",
        "#     return self.linear_layer(x)"
      ],
      "metadata": {
        "id": "qzd__Y5rjtB8"
      },
      "execution_count": 8,
      "outputs": []
    },
    {
      "cell_type": "markdown",
      "source": [
        "Below, we display the parameters of the model. Right now, they're super simple. Just two \"scalars\"."
      ],
      "metadata": {
        "id": "Shl-8LKwcZd-"
      }
    },
    {
      "cell_type": "code",
      "source": [
        "# Instantiate the model and put it to the target device\n",
        "torch.manual_seed(1)\n",
        "mod0=LinearRegressionModel()\n",
        "list(mod0.parameters())"
      ],
      "metadata": {
        "id": "5LdcDnmOmyQ2",
        "colab": {
          "base_uri": "https://localhost:8080/"
        },
        "outputId": "a8277168-6eb6-4e06-d86f-83ac621f7e3f"
      },
      "execution_count": 9,
      "outputs": [
        {
          "output_type": "execute_result",
          "data": {
            "text/plain": [
              "[Parameter containing:\n",
              " tensor([0.6614], requires_grad=True), Parameter containing:\n",
              " tensor([0.2669], requires_grad=True)]"
            ]
          },
          "metadata": {},
          "execution_count": 9
        }
      ]
    },
    {
      "cell_type": "code",
      "source": [
        "mod0.state_dict()"
      ],
      "metadata": {
        "colab": {
          "base_uri": "https://localhost:8080/"
        },
        "id": "X5VZKmsicqfk",
        "outputId": "64952e9d-f2f8-4700-e3ac-7a0fa190e25a"
      },
      "execution_count": 10,
      "outputs": [
        {
          "output_type": "execute_result",
          "data": {
            "text/plain": [
              "OrderedDict([('weights', tensor([0.6614])), ('bias', tensor([0.2669]))])"
            ]
          },
          "metadata": {},
          "execution_count": 10
        }
      ]
    },
    {
      "cell_type": "markdown",
      "source": [
        "## 3. Create a loss function and optimizer using `nn.L1Loss()` and `torch.optim.SGD(params, lr)` respectively. \n",
        "  * Set the learning rate of the optimizer to be 0.01 and the parameters to optimize should be the model parameters from the model you created in 2.\n",
        "  * Write a training loop to perform the appropriate training steps for 300 epochs.\n",
        "  * The training loop should test the model on the test dataset every 20 epochs."
      ],
      "metadata": {
        "id": "G6nYOrJhjtfu"
      }
    },
    {
      "cell_type": "code",
      "source": [
        "#Testing out inference_mode()\n",
        "with torch.inference_mode():\n",
        "  plt.plot(mod0(XTest))"
      ],
      "metadata": {
        "colab": {
          "base_uri": "https://localhost:8080/",
          "height": 268
        },
        "id": "FzgU32HKdH2i",
        "outputId": "49121da1-f84c-439a-b2bd-34d166403fb9"
      },
      "execution_count": 11,
      "outputs": [
        {
          "output_type": "display_data",
          "data": {
            "text/plain": [
              "<Figure size 432x288 with 1 Axes>"
            ],
            "image/png": "[encoded data removed]"
          },
          "metadata": {}
        }
      ]
    },
    {
      "cell_type": "code",
      "source": [
        "# Create the loss function and optimizer\n",
        "lossFn=nn.L1Loss()\n",
        "optimizer=torch.optim.SGD(params=(mod0.parameters()),lr=0.01)"
      ],
      "metadata": {
        "id": "ltvoZ-FWjv1j"
      },
      "execution_count": 12,
      "outputs": []
    },
    {
      "cell_type": "code",
      "source": [
        "# Training loop\n",
        "torch.manual_seed(1)\n",
        "\n",
        "# Train model for 300 epochs\n",
        "epochs=300\n",
        "\n",
        "epochNums=[]\n",
        "trainLosses=[]\n",
        "testLosses=[]\n",
        "\n",
        "# Send data to target device\n",
        "XTrain=XTrain.to(gpu_cpu)\n",
        "XTest=XTest.to(gpu_cpu)\n",
        "yTrain=yTrain.to(gpu_cpu)\n",
        "yTest=yTest.to(gpu_cpu)\n",
        "mod0.to(gpu_cpu)\n",
        "print(XTrain.device,XTest.device,yTrain.device,yTest.device)\n",
        "\n",
        "for epoch in range(epochs):\n",
        "  ### Training\n",
        "\n",
        "  # Put model in train mode\n",
        "  mod0.train()\n",
        "\n",
        "  # 1. Forward pass\n",
        "  yPred=mod0(XTrain)\n",
        "\n",
        "  # 2. Calculate loss\n",
        "  trainLoss=lossFn(yPred,yTrain)\n",
        "\n",
        "  # 3. Zero gradients\n",
        "  optimizer.zero_grad()\n",
        "\n",
        "  # 4. Backpropagation\n",
        "  trainLoss.backward()\n",
        "\n",
        "  # 5. Step the optimizer\n",
        "  optimizer.step()\n",
        "\n",
        "  ### Perform testing every 20 epochs\n",
        "  if epoch % 20 == 0:\n",
        "\n",
        "    # Put model in evaluation mode and setup inference context \n",
        "    mod0.eval()\n",
        "    with torch.inference_mode():\n",
        "      # 1. Forward pass\n",
        "      yPred=mod0(XTest)\n",
        "      # 2. Calculate test loss\n",
        "      testLoss=lossFn(yPred,yTest)\n",
        "      # Print out what's happening\n",
        "      epochNums.append(epoch)\n",
        "      trainLosses.append(trainLoss.cpu())\n",
        "      testLosses.append(testLoss.cpu())\n",
        "      print(f\"Epoch: {epoch} | Train loss: {trainLoss:.3f} | Test loss: {testLoss:.3f}\")"
      ],
      "metadata": {
        "id": "xpE83NvNnkdV",
        "colab": {
          "base_uri": "https://localhost:8080/"
        },
        "outputId": "082c2c31-952d-44a4-b077-877f84f8f25e"
      },
      "execution_count": 13,
      "outputs": [
        {
          "output_type": "stream",
          "name": "stdout",
          "text": [
            "cuda:0 cuda:0 cuda:0 cuda:0\n",
            "Epoch: 0 | Train loss: 0.143 | Test loss: 0.320\n",
            "Epoch: 20 | Train loss: 0.112 | Test loss: 0.249\n",
            "Epoch: 40 | Train loss: 0.080 | Test loss: 0.178\n",
            "Epoch: 60 | Train loss: 0.049 | Test loss: 0.108\n",
            "Epoch: 80 | Train loss: 0.018 | Test loss: 0.037\n",
            "Epoch: 100 | Train loss: 0.001 | Test loss: 0.002\n",
            "Epoch: 120 | Train loss: 0.001 | Test loss: 0.002\n",
            "Epoch: 140 | Train loss: 0.001 | Test loss: 0.002\n",
            "Epoch: 160 | Train loss: 0.001 | Test loss: 0.002\n",
            "Epoch: 180 | Train loss: 0.001 | Test loss: 0.002\n",
            "Epoch: 200 | Train loss: 0.001 | Test loss: 0.002\n",
            "Epoch: 220 | Train loss: 0.001 | Test loss: 0.002\n",
            "Epoch: 240 | Train loss: 0.001 | Test loss: 0.002\n",
            "Epoch: 260 | Train loss: 0.001 | Test loss: 0.002\n",
            "Epoch: 280 | Train loss: 0.001 | Test loss: 0.002\n"
          ]
        }
      ]
    },
    {
      "cell_type": "markdown",
      "source": [
        "## 4. Make predictions with the trained model on the test data.\n",
        "  * Visualize these predictions against the original training and testing data (**note:** you may need to make sure the predictions are *not* on the GPU if you want to use non-CUDA-enabled libraries such as matplotlib to plot)."
      ],
      "metadata": {
        "id": "x4j4TM18jwa7"
      }
    },
    {
      "cell_type": "code",
      "source": [
        "# Make predictions with the model\n",
        "with torch.inference_mode():\n",
        "  print(mod0(XTest).to('cpu'))"
      ],
      "metadata": {
        "id": "bbMPK5Qjjyx_",
        "colab": {
          "base_uri": "https://localhost:8080/"
        },
        "outputId": "0b509131-226d-4e45-81ba-48c12c1ee9dc"
      },
      "execution_count": 14,
      "outputs": [
        {
          "output_type": "stream",
          "name": "stdout",
          "text": [
            "tensor([1.1384, 1.1413, 1.1443, 1.1473, 1.1503, 1.1533, 1.1562, 1.1592, 1.1622,\n",
            "        1.1652, 1.1682, 1.1711, 1.1741, 1.1771, 1.1801, 1.1831, 1.1860, 1.1890,\n",
            "        1.1920, 1.1950])\n"
          ]
        }
      ]
    },
    {
      "cell_type": "code",
      "source": [
        "# Plot the predictions (these may need to be on a specific device)\n",
        "fig,ax=plt.subplots(figsize=(12,8))\n",
        "ax.scatter(XTrain.cpu().detach().numpy(),yTrain.cpu().detach().numpy(),label='Training Set')\n",
        "ax.scatter(XTest.cpu().detach().numpy(),yTest.cpu().detach().numpy(),label='Testing Set')\n",
        "ax.scatter(XTest.cpu().detach().numpy(),mod0(XTest).cpu().detach().numpy(),label='Predictions')\n",
        "ax.set_xlabel('X')\n",
        "ax.set_xlabel('y')\n",
        "ax.legend(loc='best')"
      ],
      "metadata": {
        "id": "K3BdmQaDpFo8",
        "colab": {
          "base_uri": "https://localhost:8080/",
          "height": 516
        },
        "outputId": "4665476e-c615-4b1b-9448-22d75c092ff5"
      },
      "execution_count": 15,
      "outputs": [
        {
          "output_type": "execute_result",
          "data": {
            "text/plain": [
              "<matplotlib.legend.Legend at 0x7fbe60ee5bb0>"
            ]
          },
          "metadata": {},
          "execution_count": 15
        },
        {
          "output_type": "display_data",
          "data": {
            "text/plain": [
              "<Figure size 864x576 with 1 Axes>"
            ],
            "image/png": "[encoded data removed]"
          },
          "metadata": {}
        }
      ]
    },
    {
      "cell_type": "code",
      "source": [
        "fig,ax=plt.subplots(figsize=(12,8))\n",
        "ax.set_xlabel('Epoch (arb.)')\n",
        "ax.set_xlabel('Loss (arb.)')\n",
        "ax.plot(epochNums,trainLosses,label='Training Losses')\n",
        "ax.plot(epochNums,testLosses,label='Test Losses')\n",
        "ax.legend(loc='best')"
      ],
      "metadata": {
        "colab": {
          "base_uri": "https://localhost:8080/",
          "height": 516
        },
        "id": "8shGCsFMnapK",
        "outputId": "708454d4-59b3-4cb7-cd07-4851a3abbb64"
      },
      "execution_count": 16,
      "outputs": [
        {
          "output_type": "execute_result",
          "data": {
            "text/plain": [
              "<matplotlib.legend.Legend at 0x7fbe609f8fa0>"
            ]
          },
          "metadata": {},
          "execution_count": 16
        },
        {
          "output_type": "display_data",
          "data": {
            "text/plain": [
              "<Figure size 864x576 with 1 Axes>"
            ],
            "image/png": "[encoded data removed]"
          },
          "metadata": {}
        }
      ]
    },
    {
      "cell_type": "code",
      "source": [
        "mod0.state_dict()"
      ],
      "metadata": {
        "colab": {
          "base_uri": "https://localhost:8080/"
        },
        "id": "Z-a9pxrxFlFg",
        "outputId": "86836822-972c-4e5f-a3c1-3fc1dfe8ea2c"
      },
      "execution_count": 18,
      "outputs": [
        {
          "output_type": "execute_result",
          "data": {
            "text/plain": [
              "OrderedDict([('weights', tensor([0.2980], device='cuda:0')),\n",
              "             ('bias', tensor([0.2669], device='cuda:0'))])"
            ]
          },
          "metadata": {},
          "execution_count": 18
        }
      ]
    },
    {
      "cell_type": "markdown",
      "source": [
        "## 5. Save your trained model's `state_dict()` to file.\n",
        "  * Create a new instance of your model class you made in 2. and load in the `state_dict()` you just saved to it.\n",
        "  * Perform predictions on your test data with the loaded model and confirm they match the original model predictions from 4."
      ],
      "metadata": {
        "id": "s2OnlMWKjzX8"
      }
    },
    {
      "cell_type": "code",
      "source": [
        "from pathlib import Path\n",
        "\n",
        "# 1. Create models directory \n",
        "MODEL_PATH=Path(\"models\")\n",
        "MODEL_PATH.mkdir(parents=True,exist_ok=True)\n",
        "\n",
        "# 2. Create model save path \n",
        "MODEL_NAME='simple_linear'\n",
        "MODEL_SAVE_PATH=MODEL_PATH/MODEL_NAME\n",
        "\n",
        "# 3. Save the model state dict\n",
        "print(MODEL_SAVE_PATH)\n",
        "torch.save(obj=mod0.state_dict(),f=MODEL_SAVE_PATH)"
      ],
      "metadata": {
        "id": "hgxhgD14qr-i",
        "colab": {
          "base_uri": "https://localhost:8080/"
        },
        "outputId": "d32c4624-f180-4bfd-a2bd-0e2eb83faf1a"
      },
      "execution_count": 21,
      "outputs": [
        {
          "output_type": "stream",
          "name": "stdout",
          "text": [
            "models/simple_linear\n"
          ]
        }
      ]
    },
    {
      "cell_type": "code",
      "source": [
        "!ls -l models/simple_linear"
      ],
      "metadata": {
        "colab": {
          "base_uri": "https://localhost:8080/"
        },
        "id": "5Fz9LovWG1r2",
        "outputId": "ced4afcb-79a2-43e1-f300-7111f4f23678"
      },
      "execution_count": 23,
      "outputs": [
        {
          "output_type": "stream",
          "name": "stdout",
          "text": [
            "-rw-r--r-- 1 root root 1087 Jan  5 04:06 models/simple_linear\n"
          ]
        }
      ]
    },
    {
      "cell_type": "code",
      "source": [
        "# Create new instance of model and load saved state dict (make sure to put it on the target device)\n",
        "newInstance=LinearRegressionModel()\n",
        "newInstance.load_state_dict(torch.load(f=MODEL_SAVE_PATH))\n",
        "newInstance.to(gpu_cpu)"
      ],
      "metadata": {
        "id": "P9vTgiLRrJ7T",
        "colab": {
          "base_uri": "https://localhost:8080/"
        },
        "outputId": "b2393f70-521a-4455-855b-16225cf7c4af"
      },
      "execution_count": 24,
      "outputs": [
        {
          "output_type": "execute_result",
          "data": {
            "text/plain": [
              "LinearRegressionModel()"
            ]
          },
          "metadata": {},
          "execution_count": 24
        }
      ]
    },
    {
      "cell_type": "code",
      "source": [
        "# Make predictions with loaded model and compare them to the previous\n",
        "newInstance(XTest)==mod0(XTest)"
      ],
      "metadata": {
        "id": "8UGX3VebrVtI",
        "colab": {
          "base_uri": "https://localhost:8080/"
        },
        "outputId": "e382b0b9-ccfd-4c56-d8ed-ad54f4d74dfd"
      },
      "execution_count": 28,
      "outputs": [
        {
          "output_type": "execute_result",
          "data": {
            "text/plain": [
              "tensor([True, True, True, True, True, True, True, True, True, True, True, True,\n",
              "        True, True, True, True, True, True, True, True], device='cuda:0')"
            ]
          },
          "metadata": {},
          "execution_count": 28
        }
      ]
    },
    {
      "cell_type": "code",
      "source": [],
      "metadata": {
        "id": "5pzj_WzqHete"
      },
      "execution_count": null,
      "outputs": []
    }
  ]
}