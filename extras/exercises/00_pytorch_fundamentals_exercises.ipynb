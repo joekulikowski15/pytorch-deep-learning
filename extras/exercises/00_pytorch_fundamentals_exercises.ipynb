{
  "nbformat": 4,
  "nbformat_minor": 0,
  "metadata": {
    "colab": {
      "provenance": []
    },
    "kernelspec": {
      "name": "python3",
      "display_name": "Python 3"
    },
    "language_info": {
      "name": "python"
    },
    "accelerator": "GPU",
    "gpuClass": "standard"
  },
  "cells": [
    {
      "cell_type": "markdown",
      "source": [
        "# 00. PyTorch Fundamentals Exercises\n",
        "\n",
        "### 1. Documentation reading \n",
        "\n",
        "A big part of deep learning (and learning to code in general) is getting familiar with the documentation of a certain framework you're using. We'll be using the PyTorch documentation a lot throughout the rest of this course. So I'd recommend spending 10-minutes reading the following (it's okay if you don't get some things for now, the focus is not yet full understanding, it's awareness):\n",
        "  * The documentation on [`torch.Tensor`](https://pytorch.org/docs/stable/tensors.html#torch-tensor).\n",
        "  * The documentation on [`torch.cuda`](https://pytorch.org/docs/master/notes/cuda.html#cuda-semantics).\n",
        "\n"
      ],
      "metadata": {
        "id": "AzDBM_v4iMe7"
      }
    },
    {
      "cell_type": "code",
      "source": [
        "# No code solution (reading)"
      ],
      "metadata": {
        "id": "bGD0oD8Kizak"
      },
      "execution_count": null,
      "outputs": []
    },
    {
      "cell_type": "markdown",
      "source": [
        "### 2. Create a random tensor with shape `(7, 7)`.\n"
      ],
      "metadata": {
        "id": "__iXqqz-ioUJ"
      }
    },
    {
      "cell_type": "code",
      "source": [
        "# Import torch\n",
        "import torch\n",
        "\n",
        "# Create random tensor\n",
        "a=torch.rand(7,7)\n",
        "a\n"
      ],
      "metadata": {
        "id": "6pUq9Dc8i2L7",
        "colab": {
          "base_uri": "https://localhost:8080/"
        },
        "outputId": "7cb0e6e8-0771-4f55-c72d-186af32dd81b"
      },
      "execution_count": null,
      "outputs": [
        {
          "output_type": "execute_result",
          "data": {
            "text/plain": [
              "tensor([[0.0771, 0.3418, 0.5585, 0.8325, 0.2094, 0.6644, 0.7337],\n",
              "        [0.2221, 0.8934, 0.0413, 0.9737, 0.8982, 0.0205, 0.4205],\n",
              "        [0.1020, 0.0784, 0.4031, 0.1072, 0.0784, 0.8875, 0.3101],\n",
              "        [0.4903, 0.2234, 0.9505, 0.7612, 0.5596, 0.4906, 0.6136],\n",
              "        [0.9670, 0.5542, 0.4862, 0.3503, 0.4643, 0.6537, 0.4915],\n",
              "        [0.5190, 0.2873, 0.4833, 0.3131, 0.9313, 0.3062, 0.5352],\n",
              "        [0.7849, 0.8833, 0.5200, 0.5321, 0.3741, 0.0186, 0.8880]])"
            ]
          },
          "metadata": {},
          "execution_count": 3
        }
      ]
    },
    {
      "cell_type": "markdown",
      "source": [
        "### 3. Perform a matrix multiplication on the tensor from 2 with another random tensor with shape `(1, 7)` (hint: you may have to transpose the second tensor)."
      ],
      "metadata": {
        "id": "9-XxvRLfiqkR"
      }
    },
    {
      "cell_type": "code",
      "source": [
        "# Create another random tensor\n",
        "b=torch.rand(1,7)\n",
        "print(f'''{a}\n",
        "{b}''')\n",
        "# Perform matrix multiplication \n",
        "torch.matmul(a,b.T)"
      ],
      "metadata": {
        "id": "NcLqR0Sbi_vT",
        "outputId": "e1f72be1-1dac-471e-def4-d1d075e71a58",
        "colab": {
          "base_uri": "https://localhost:8080/"
        }
      },
      "execution_count": null,
      "outputs": [
        {
          "output_type": "stream",
          "name": "stdout",
          "text": [
            "tensor([[0.0771, 0.3418, 0.5585, 0.8325, 0.2094, 0.6644, 0.7337],\n",
            "        [0.2221, 0.8934, 0.0413, 0.9737, 0.8982, 0.0205, 0.4205],\n",
            "        [0.1020, 0.0784, 0.4031, 0.1072, 0.0784, 0.8875, 0.3101],\n",
            "        [0.4903, 0.2234, 0.9505, 0.7612, 0.5596, 0.4906, 0.6136],\n",
            "        [0.9670, 0.5542, 0.4862, 0.3503, 0.4643, 0.6537, 0.4915],\n",
            "        [0.5190, 0.2873, 0.4833, 0.3131, 0.9313, 0.3062, 0.5352],\n",
            "        [0.7849, 0.8833, 0.5200, 0.5321, 0.3741, 0.0186, 0.8880]])\n",
            "tensor([[0.1614, 0.0660, 0.0552, 0.8129, 0.6126, 0.2825, 0.9868]])\n"
          ]
        },
        {
          "output_type": "execute_result",
          "data": {
            "text/plain": [
              "tensor([[1.7825],\n",
              "        [1.8596],\n",
              "        [0.7358],\n",
              "        [1.8521],\n",
              "        [1.4584],\n",
              "        [1.5691],\n",
              "        [1.7569]])"
            ]
          },
          "metadata": {},
          "execution_count": 8
        }
      ]
    },
    {
      "cell_type": "markdown",
      "source": [
        "### 4. Set the random seed to `0` and do 2 & 3 over again.\n",
        "\n",
        "The output should be:\n",
        "```\n",
        "(tensor([[1.8542],\n",
        "         [1.9611],\n",
        "         [2.2884],\n",
        "         [3.0481],\n",
        "         [1.7067],\n",
        "         [2.5290],\n",
        "         [1.7989]]), torch.Size([7, 1]))\n",
        "```"
      ],
      "metadata": {
        "id": "eiutdKUFiryU"
      }
    },
    {
      "cell_type": "code",
      "source": [
        "# Set manual seed\n",
        "torch.manual_seed(0)\n",
        "\n",
        "# Create two random tensors\n",
        "a,b=torch.rand((7,7)),torch.rand((1,7))\n",
        "\n",
        "# Matrix multiply tensors\n",
        "torch.matmul(a,b.T)"
      ],
      "metadata": {
        "id": "D-lOWI_1jRMm",
        "colab": {
          "base_uri": "https://localhost:8080/"
        },
        "outputId": "9ce4e5b8-c8a0-44ec-e848-d9070f619e3d"
      },
      "execution_count": null,
      "outputs": [
        {
          "output_type": "execute_result",
          "data": {
            "text/plain": [
              "tensor([[1.8542],\n",
              "        [1.9611],\n",
              "        [2.2884],\n",
              "        [3.0481],\n",
              "        [1.7067],\n",
              "        [2.5290],\n",
              "        [1.7989]])"
            ]
          },
          "metadata": {},
          "execution_count": 10
        }
      ]
    },
    {
      "cell_type": "markdown",
      "source": [
        "### 5. Speaking of random seeds, we saw how to set it with `torch.manual_seed()` but is there a GPU equivalent? (hint: you'll need to look into the documentation for `torch.cuda` for this one)\n",
        "  * If there is, set the GPU random seed to `1234`."
      ],
      "metadata": {
        "id": "ezY6ks9Cis37"
      }
    },
    {
      "cell_type": "code",
      "source": [
        "# Set random seed on the GPU\n",
        "torch.cuda.manual_seed(1234)"
      ],
      "metadata": {
        "id": "_LKWcfSTjp00"
      },
      "execution_count": null,
      "outputs": []
    },
    {
      "cell_type": "markdown",
      "source": [
        "\n",
        "### 6. Create two random tensors of shape `(2, 3)` and send them both to the GPU (you'll need access to a GPU for this). Set `torch.manual_seed(1234)` when creating the tensors (this doesn't have to be the GPU random seed). The output should be something like:\n",
        "\n",
        "```\n",
        "Device: cuda\n",
        "(tensor([[0.0290, 0.4019, 0.2598],\n",
        "         [0.3666, 0.0583, 0.7006]], device='cuda:0'),\n",
        " tensor([[0.0518, 0.4681, 0.6738],\n",
        "         [0.3315, 0.7837, 0.5631]], device='cuda:0'))\n",
        "```"
      ],
      "metadata": {
        "id": "Ir9qSaj6it4n"
      }
    },
    {
      "cell_type": "code",
      "source": [
        "# !nvidia-smi"
      ],
      "metadata": {
        "id": "dxkfvTBRK6sD"
      },
      "execution_count": null,
      "outputs": []
    },
    {
      "cell_type": "code",
      "source": [
        "gpu = \"cuda\" if torch.cuda.is_available() else \"cpu\"\n",
        "gpu"
      ],
      "metadata": {
        "colab": {
          "base_uri": "https://localhost:8080/",
          "height": 36
        },
        "id": "xnPq1AOlMgS-",
        "outputId": "24e24f50-8bb2-4477-8069-e180e9d58e0b"
      },
      "execution_count": null,
      "outputs": [
        {
          "output_type": "execute_result",
          "data": {
            "text/plain": [
              "'cuda'"
            ],
            "application/vnd.google.colaboratory.intrinsic+json": {
              "type": "string"
            }
          },
          "metadata": {},
          "execution_count": 23
        }
      ]
    },
    {
      "cell_type": "code",
      "source": [
        "# Set random seed\n",
        "torch.manual_seed(1234)\n",
        "\n",
        "# Check for access to GPU\n",
        "print(torch.cuda.is_available(),'\\n')\n",
        "# Create two random tensors on GPU\n",
        "a=torch.rand((2,3))\n",
        "b=torch.rand((2,3))\n",
        "print(f\"\"\"\n",
        "Tensor: {a}, on: {a.device}\n",
        "Tensor: {b}, on: {b.device}\n",
        "\"\"\")\n",
        "a=a.to(gpu)\n",
        "b=b.to(gpu)\n",
        "\n",
        "print(f\"\"\"\n",
        "Tensor: {a}, on: {a.device}\n",
        "Tensor: {b}, on: {b.device}\n",
        "\"\"\")\n"
      ],
      "metadata": {
        "id": "azXExiFZj5nm",
        "colab": {
          "base_uri": "https://localhost:8080/"
        },
        "outputId": "58993b83-53b6-4e5f-b16e-722a5ff07f59"
      },
      "execution_count": null,
      "outputs": [
        {
          "output_type": "stream",
          "name": "stdout",
          "text": [
            "True \n",
            "\n",
            "\n",
            "Tensor: tensor([[0.0290, 0.4019, 0.2598],\n",
            "        [0.3666, 0.0583, 0.7006]]), on: cpu\n",
            "Tensor: tensor([[0.0518, 0.4681, 0.6738],\n",
            "        [0.3315, 0.7837, 0.5631]]), on: cpu\n",
            "\n",
            "\n",
            "Tensor: tensor([[0.0290, 0.4019, 0.2598],\n",
            "        [0.3666, 0.0583, 0.7006]], device='cuda:0'), on: cuda:0\n",
            "Tensor: tensor([[0.0518, 0.4681, 0.6738],\n",
            "        [0.3315, 0.7837, 0.5631]], device='cuda:0'), on: cuda:0\n",
            "\n"
          ]
        }
      ]
    },
    {
      "cell_type": "markdown",
      "source": [
        "\n",
        "### 7. Perform a matrix multiplication on the tensors you created in 6 (again, you may have to adjust the shapes of one of the tensors).\n",
        "\n",
        "The output should look like:\n",
        "```\n",
        "(tensor([[0.3647, 0.4709],\n",
        "         [0.5184, 0.5617]], device='cuda:0'), torch.Size([2, 2]))\n",
        "```"
      ],
      "metadata": {
        "id": "5TlAxeiSiu1y"
      }
    },
    {
      "cell_type": "code",
      "source": [
        "# Perform matmul on tensor_A and tensor_B\n",
        "adotb=torch.matmul(a,b.T)\n",
        "adotb\n"
      ],
      "metadata": {
        "id": "fAeG7ox0lHEO",
        "colab": {
          "base_uri": "https://localhost:8080/"
        },
        "outputId": "ce983e38-69af-4f0b-e548-c71bfb43a0a1"
      },
      "execution_count": null,
      "outputs": [
        {
          "output_type": "execute_result",
          "data": {
            "text/plain": [
              "tensor([[0.3647, 0.4709],\n",
              "        [0.5184, 0.5617]], device='cuda:0')"
            ]
          },
          "metadata": {},
          "execution_count": 33
        }
      ]
    },
    {
      "cell_type": "markdown",
      "source": [
        "### 8. Find the maximum and minimum values of the output of 7."
      ],
      "metadata": {
        "id": "G7qfa5CSivwg"
      }
    },
    {
      "cell_type": "code",
      "source": [
        "# Find max\n",
        "# Find min\n",
        "print(f'max: {adotb.max()}, min: {adotb.min()}')"
      ],
      "metadata": {
        "id": "Fu8_3mZpllOd",
        "colab": {
          "base_uri": "https://localhost:8080/"
        },
        "outputId": "13df32f9-ee49-4753-97bc-768d8608f1a2"
      },
      "execution_count": null,
      "outputs": [
        {
          "output_type": "stream",
          "name": "stdout",
          "text": [
            "max: 0.5617256760597229, min: 0.3647301495075226\n"
          ]
        }
      ]
    },
    {
      "cell_type": "markdown",
      "source": [
        "### 9. Find the maximum and minimum index values of the output of 7."
      ],
      "metadata": {
        "id": "wrTj5FgNiw47"
      }
    },
    {
      "cell_type": "code",
      "source": [
        "# Find arg max\n",
        "# Find arg min\n",
        "\n",
        "print(f'index of max: {adotb.argmax()},index of min: {adotb.argmin()}')"
      ],
      "metadata": {
        "id": "CCEKt4K2lsfQ",
        "colab": {
          "base_uri": "https://localhost:8080/"
        },
        "outputId": "038d1023-adc6-4dd4-bb23-6c3121292c49"
      },
      "execution_count": null,
      "outputs": [
        {
          "output_type": "stream",
          "name": "stdout",
          "text": [
            "index of max: 3,index of min: 0\n"
          ]
        }
      ]
    },
    {
      "cell_type": "markdown",
      "source": [
        "\n",
        "### 10. Make a random tensor with shape `(1, 1, 1, 10)` and then create a new tensor with all the `1` dimensions removed to be left with a tensor of shape `(10)`. Set the seed to `7` when you create it and print out the first tensor and it's shape as well as the second tensor and it's shape.\n",
        "\n",
        "The output should look like:\n",
        "\n",
        "```\n",
        "tensor([[[[0.5349, 0.1988, 0.6592, 0.6569, 0.2328, 0.4251, 0.2071, 0.6297,\n",
        "           0.3653, 0.8513]]]]) torch.Size([1, 1, 1, 10])\n",
        "tensor([0.5349, 0.1988, 0.6592, 0.6569, 0.2328, 0.4251, 0.2071, 0.6297, 0.3653,\n",
        "        0.8513]) torch.Size([10])\n",
        "```"
      ],
      "metadata": {
        "id": "hmeybz4uixy7"
      }
    },
    {
      "cell_type": "code",
      "source": [
        "# Set seed\n",
        "torch.manual_seed(7)\n",
        "\n",
        "# Create random tensor\n",
        "a=torch.rand((1,1,1,10))\n",
        "# Remove single dimensions\n",
        "a_1D=a.view(10)\n",
        "# Print out tensors and their shapes\n",
        "print(f'tensor: {a}, shape: {a.shape}')\n",
        "print(f'tensor: {a_1D}, shape: {a_1D.shape}')"
      ],
      "metadata": {
        "id": "TQ9zbRzVl1jV",
        "colab": {
          "base_uri": "https://localhost:8080/"
        },
        "outputId": "d501aef0-79c4-4c66-ce8e-73fcfef4f2ed"
      },
      "execution_count": null,
      "outputs": [
        {
          "output_type": "stream",
          "name": "stdout",
          "text": [
            "tensor: tensor([[[[0.5349, 0.1988, 0.6592, 0.6569, 0.2328, 0.4251, 0.2071, 0.6297,\n",
            "           0.3653, 0.8513]]]]), shape: torch.Size([1, 1, 1, 10])\n",
            "tensor: tensor([0.5349, 0.1988, 0.6592, 0.6569, 0.2328, 0.4251, 0.2071, 0.6297, 0.3653,\n",
            "        0.8513]), shape: torch.Size([10])\n"
          ]
        }
      ]
    },
    {
      "cell_type": "code",
      "source": [],
      "metadata": {
        "id": "IBq-Uh5TOXUX"
      },
      "execution_count": null,
      "outputs": []
    }
  ]
}